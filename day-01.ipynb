{
 "cells": [
  {
   "cell_type": "markdown",
   "source": [
    "# Day 1: Trebuchet?!\n",
    "\n",
    "\n",
    "Something is wrong with global snow production, and you've been selected to take a look.\n",
    "The Elves have even given you a map; on it, they've used stars to mark the top fifty locations that are likely to be having problems.\n",
    "\n",
    "You've been doing this long enough to know that to restore snow operations, you need to check all **fifty stars** by December 25th.\n",
    "\n",
    "Collect stars by solving puzzles.\n",
    "Two puzzles will be made available on each day in the Advent calendar; the second puzzle is unlocked when you complete the first.\n",
    "Each puzzle grants **one star**. Good luck!\n",
    "\n",
    "## Part One\n",
    "\n",
    "You try to ask why they can't just use a weather machine (\"not powerful enough\") and where they're even sending you (\"the sky\") and why your map looks mostly blank (\"you sure ask a lot of questions\") and hang on did you just say the sky (\"of course, where do you think snow comes from\") when you realize that the Elves are already loading you into a trebuchet (\"please hold still, we need to strap you in\").\n",
    "\n",
    "As they're making the final adjustments, they discover that their calibration document (your puzzle input) has been amended by a very young Elf who was apparently just excited to show off her art skills. Consequently, the Elves are having trouble reading the values on the document.\n",
    "\n",
    "The newly-improved calibration document consists of lines of text;\n",
    "each line originally contained a specific calibration value that the Elves now need to recover.\n",
    "On each line, the calibration value can be found by combining the first digit and the last digit (in that order) to form a single two-digit number.\n",
    "\n",
    "Eg.\n",
    "\n",
    "```text\n",
    "1abc2\n",
    "pqr3stu8vwx\n",
    "a1b2c3d4e5f\n",
    "treb7uchet\n",
    "```\n",
    "\n",
    "In this example, the calibration values of these four lines are `12`, `38`, `15`, and `77`. Adding these together produces `142`."
   ],
   "metadata": {
    "collapsed": false
   }
  },
  {
   "cell_type": "code",
   "execution_count": 1,
   "outputs": [
    {
     "name": "stdout",
     "output_type": "stream",
     "text": [
      "[1abc2, pqr3stu8vwx, a1b2c3d4e5f, treb7uchet]\r\n"
     ]
    }
   ],
   "source": [
    "val example = listOf(\"1abc2\", \"pqr3stu8vwx\", \"a1b2c3d4e5f\", \"treb7uchet\")\n",
    "println(example)"
   ],
   "metadata": {
    "collapsed": false,
    "ExecuteTime": {
     "end_time": "2023-12-09T18:01:15.395040500Z",
     "start_time": "2023-12-09T18:01:15.240041300Z"
    }
   }
  },
  {
   "cell_type": "code",
   "execution_count": 2,
   "outputs": [
    {
     "name": "stdout",
     "output_type": "stream",
     "text": [
      "[12, 38, 12345, 7]\r\n"
     ]
    }
   ],
   "source": [
    "val fisrtStep = example.map { it.replace(Regex(\"[^0-9]\"), \"\") }\n",
    "println(fisrtStep)"
   ],
   "metadata": {
    "collapsed": false,
    "ExecuteTime": {
     "end_time": "2023-12-09T18:01:15.573041200Z",
     "start_time": "2023-12-09T18:01:15.395040500Z"
    }
   }
  },
  {
   "cell_type": "code",
   "execution_count": 3,
   "outputs": [
    {
     "name": "stdout",
     "output_type": "stream",
     "text": [
      "[(1, 2), (3, 8), (1, 5), (7, 7)]\r\n"
     ]
    }
   ],
   "source": [
    "val secondStep = fisrtStep.map { Pair(first = it.first(), second = it.last()) }\n",
    "println(secondStep)"
   ],
   "metadata": {
    "collapsed": false,
    "ExecuteTime": {
     "end_time": "2023-12-09T18:01:15.685040500Z",
     "start_time": "2023-12-09T18:01:15.573041200Z"
    }
   }
  },
  {
   "cell_type": "code",
   "execution_count": 4,
   "outputs": [
    {
     "name": "stdout",
     "output_type": "stream",
     "text": [
      "[12, 38, 15, 77]\r\n"
     ]
    }
   ],
   "source": [
    "val thirdStep = secondStep.map{ \"${it.first}${it.second}\".toInt()}\n",
    "println(thirdStep)"
   ],
   "metadata": {
    "collapsed": false,
    "ExecuteTime": {
     "end_time": "2023-12-09T18:01:15.789040900Z",
     "start_time": "2023-12-09T18:01:15.686040Z"
    }
   }
  },
  {
   "cell_type": "code",
   "execution_count": 5,
   "outputs": [
    {
     "name": "stdout",
     "output_type": "stream",
     "text": [
      "142\r\n"
     ]
    }
   ],
   "source": [
    "val result = thirdStep.sum()\n",
    "println(result)"
   ],
   "metadata": {
    "collapsed": false,
    "ExecuteTime": {
     "end_time": "2023-12-09T18:01:15.867041700Z",
     "start_time": "2023-12-09T18:01:15.789040900Z"
    }
   }
  },
  {
   "cell_type": "code",
   "execution_count": 6,
   "outputs": [],
   "source": [
    "fun calibration(lines: List<String>): Int {\n",
    "  return lines\n",
    "    .map { it.replace(Regex(\"[^0-9]\"), \"\") }\n",
    "    .filter(String::isNotEmpty)\n",
    "    .map { Pair(it.first(),it.last()) }\n",
    "    .map{ \"${it.first}${it.second}\".toInt()}\n",
    "    .sum()\n",
    "}"
   ],
   "metadata": {
    "collapsed": false,
    "ExecuteTime": {
     "end_time": "2023-12-09T18:01:16.142041100Z",
     "start_time": "2023-12-09T18:01:15.866040100Z"
    }
   }
  },
  {
   "cell_type": "markdown",
   "source": [
    "### Input:\n",
    "\n",
    "See [input.txt](inputs/day-01-input-01.txt)."
   ],
   "metadata": {
    "collapsed": false
   }
  },
  {
   "cell_type": "code",
   "execution_count": 7,
   "outputs": [
    {
     "name": "stdout",
     "output_type": "stream",
     "text": [
      "Which is the sum of all calibrations?\r\n",
      "54338\r\n"
     ]
    }
   ],
   "source": [
    "import java.io.File\n",
    "\n",
    "val input: List<String> = File(\"inputs/day-01-input-01.txt\").bufferedReader().readLines()\n",
    "println(\"Which is the sum of all calibrations?\")\n",
    "println(input.let(::calibration))"
   ],
   "metadata": {
    "collapsed": false,
    "ExecuteTime": {
     "end_time": "2023-12-09T18:01:16.249041100Z",
     "start_time": "2023-12-09T18:01:16.141041400Z"
    }
   }
  },
  {
   "cell_type": "markdown",
   "source": [
    "## Part Two\n",
    "\n",
    "Your calculation isn't quite right.\n",
    "It looks like some of the digits are actually spelled out with letters: one, two, three, four, five, six, seven, eight, and nine also count as valid \"digits\".\n",
    "\n",
    "Equipped with this new information, you now need to find the real first and last digit on each line.\n",
    "\n",
    "For example:\n",
    "\n",
    "```\n",
    "two1nine\n",
    "eightwothree\n",
    "abcone2threexyz\n",
    "xtwone3four\n",
    "4nineeightseven2\n",
    "zoneight234\n",
    "7pqrstsixteen\n",
    "```\n",
    "\n",
    "In this example, the calibration values are `29`, `83`, `13`, `24`, `42`, `14`, and `76`. Adding these together produces `281`."
   ],
   "metadata": {
    "collapsed": false
   }
  },
  {
   "cell_type": "code",
   "execution_count": 8,
   "outputs": [
    {
     "name": "stdout",
     "output_type": "stream",
     "text": [
      "[zero, one, two, three, four, five, six, seven, eight, nine]\r\n"
     ]
    }
   ],
   "source": [
    "val letterValues = listOf(\"zero\", \"one\", \"two\", \"three\", \"four\", \"five\", \"six\", \"seven\", \"eight\", \"nine\").also(::println)"
   ],
   "metadata": {
    "collapsed": false,
    "ExecuteTime": {
     "end_time": "2023-12-09T18:01:16.306041800Z",
     "start_time": "2023-12-09T18:01:16.249041100Z"
    }
   }
  },
  {
   "cell_type": "code",
   "execution_count": 9,
   "outputs": [
    {
     "name": "stdout",
     "output_type": "stream",
     "text": [
      "[two1nine, eightwothree, abcone2threexyz, xtwone3four, 4nineeightseven2, zoneight234, 7pqrstsixteen]\r\n"
     ]
    }
   ],
   "source": [
    "val example2 = listOf(\"two1nine\", \"eightwothree\", \"abcone2threexyz\", \"xtwone3four\", \"4nineeightseven2\", \"zoneight234\", \"7pqrstsixteen\").also(::println)"
   ],
   "metadata": {
    "collapsed": false,
    "ExecuteTime": {
     "end_time": "2023-12-09T18:01:16.356041400Z",
     "start_time": "2023-12-09T18:01:16.305041400Z"
    }
   }
  },
  {
   "cell_type": "code",
   "execution_count": 10,
   "outputs": [
    {
     "data": {
      "text/plain": "219"
     },
     "execution_count": 10,
     "metadata": {},
     "output_type": "execute_result"
    }
   ],
   "source": [
    "\"two1nine\".replace(\n",
    "  Regex(letterValues.joinToString(\"|\")),\n",
    "  { matchResult -> letterValues.indexOf(matchResult.value).toString() }\n",
    ")"
   ],
   "metadata": {
    "collapsed": false,
    "ExecuteTime": {
     "end_time": "2023-12-09T18:01:16.454040700Z",
     "start_time": "2023-12-09T18:01:16.355041300Z"
    }
   }
  },
  {
   "cell_type": "code",
   "execution_count": 11,
   "outputs": [],
   "source": [
    "fun calibrationV2(lines: List<String>): Int {\n",
    "  return lines\n",
    "    .map{ it.replace( Regex(letterValues.joinToString(\"|\")), { matchResult -> letterValues.indexOf(matchResult.value).toString().trim() } )}\n",
    "    .let(::calibration)\n",
    "}"
   ],
   "metadata": {
    "collapsed": false,
    "ExecuteTime": {
     "end_time": "2023-12-09T18:01:16.548040900Z",
     "start_time": "2023-12-09T18:01:16.452040200Z"
    }
   }
  },
  {
   "cell_type": "code",
   "execution_count": 12,
   "outputs": [
    {
     "data": {
      "text/plain": "281"
     },
     "execution_count": 12,
     "metadata": {},
     "output_type": "execute_result"
    }
   ],
   "source": [
    "example2.let(::calibrationV2)"
   ],
   "metadata": {
    "collapsed": false,
    "ExecuteTime": {
     "end_time": "2023-12-09T18:01:16.598040400Z",
     "start_time": "2023-12-09T18:01:16.547040700Z"
    }
   }
  },
  {
   "cell_type": "markdown",
   "source": [
    "### Input:\n",
    "\n",
    "See [input.txt](inputs/day-01-input-02.txt).\n"
   ],
   "metadata": {
    "collapsed": false
   }
  },
  {
   "cell_type": "code",
   "execution_count": 13,
   "outputs": [
    {
     "name": "stdout",
     "output_type": "stream",
     "text": [
      "Which is the sum of all calibrations?\r\n",
      "53407\r\n"
     ]
    }
   ],
   "source": [
    "println(\"Which is the sum of all calibrations?\")\n",
    "println(input.let(::calibrationV2))"
   ],
   "metadata": {
    "collapsed": false,
    "ExecuteTime": {
     "end_time": "2023-12-09T18:01:16.656040800Z",
     "start_time": "2023-12-09T18:01:16.593040900Z"
    }
   }
  }
 ],
 "metadata": {
  "kernelspec": {
   "display_name": "Kotlin",
   "language": "kotlin",
   "name": "kotlin"
  },
  "language_info": {
   "name": "kotlin",
   "version": "1.8.20",
   "mimetype": "text/x-kotlin",
   "file_extension": ".kt",
   "pygments_lexer": "kotlin",
   "codemirror_mode": "text/x-kotlin",
   "nbconvert_exporter": ""
  },
  "ktnbPluginMetadata": {
   "isAddProjectLibrariesToClasspath": false
  }
 },
 "nbformat": 4,
 "nbformat_minor": 0
}
